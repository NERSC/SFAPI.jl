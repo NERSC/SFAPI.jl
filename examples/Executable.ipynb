{
 "cells": [
  {
   "cell_type": "code",
   "execution_count": null,
   "id": "18943b90-0d94-46b5-a46b-9241d4456595",
   "metadata": {},
   "outputs": [],
   "source": [
    "using Pkg\n",
    "Pkg.activate(@__DIR__)\n",
    "Pkg.instantiate()"
   ]
  },
  {
   "cell_type": "code",
   "execution_count": null,
   "id": "f17b4338-e8a3-48ba-8ab1-8b06e8ff52c6",
   "metadata": {},
   "outputs": [],
   "source": [
    "using JSON\n",
    "using Dates\n",
    "using TimeZones\n",
    "using Chain\n",
    "using ResultTypes\n",
    "\n",
    "using Base: @kwdef"
   ]
  },
  {
   "cell_type": "code",
   "execution_count": null,
   "id": "db914ca1-cd75-4f21-a885-e76d42317d96",
   "metadata": {},
   "outputs": [],
   "source": [
    "using Superfacility: SFAPI"
   ]
  },
  {
   "cell_type": "markdown",
   "id": "dc6c752d-6f54-49c0-b756-d8e38a60c536",
   "metadata": {},
   "source": [
    "Grab a token and check if it works"
   ]
  },
  {
   "cell_type": "code",
   "execution_count": null,
   "id": "16f2b345-6ff8-47d4-b20a-9dac3a615d87",
   "metadata": {},
   "outputs": [],
   "source": [
    "client = SFAPI.Token.Client(joinpath(@__DIR__, \"credentials\"))\n",
    "tc = SFAPI.Token.fetch(client) |> unwrap;"
   ]
  },
  {
   "cell_type": "code",
   "execution_count": null,
   "id": "59d09080-7fa2-432b-be8d-d5ee2a23c1a3",
   "metadata": {},
   "outputs": [],
   "source": [
    "tc = SFAPI.Token.refresh(tc)\n",
    "account = SFAPI.Account.User(SFAPI.Query.get(\"account\", tc.token))"
   ]
  },
  {
   "cell_type": "markdown",
   "id": "359b3a9b-eb85-42f2-b05c-6bde6ab41968",
   "metadata": {},
   "source": [
    "Paths at NERSC:"
   ]
  },
  {
   "cell_type": "code",
   "execution_count": null,
   "id": "71c88c61-73c3-495a-8c83-f612643bfb4d",
   "metadata": {},
   "outputs": [],
   "source": [
    "home_path = \"/global/homes/$(account.name[1])/$(account.name)\"\n",
    "scratch_path = \"/pscratch/sd/$(account.name[1])/$(account.name)\""
   ]
  },
  {
   "cell_type": "markdown",
   "id": "d61a6785-96a6-4118-9d8f-208b424857ec",
   "metadata": {},
   "source": [
    "Start a command (executable) to list a directory:"
   ]
  },
  {
   "cell_type": "code",
   "execution_count": null,
   "id": "30186438-46c6-4e33-86e0-63a042239b9c",
   "metadata": {},
   "outputs": [],
   "source": [
    "tc = SFAPI.Token.refresh(tc)\n",
    "cmd = SFAPI.Executable.run(\"ls $(home_path)\", tc)"
   ]
  },
  {
   "cell_type": "markdown",
   "id": "aae7b47f-b6fd-4a79-8c1b-4acba6ee75ed",
   "metadata": {},
   "source": [
    "This is a handle to a command that just ran (\"OK\"), now grab the result from the command. Note that the `result` function returns a Julia task => you need to use `fetch` to get the result."
   ]
  },
  {
   "cell_type": "code",
   "execution_count": null,
   "id": "ea95a7e7-eebb-4691-80d9-9a6972913a33",
   "metadata": {},
   "outputs": [],
   "source": [
    "t = SFAPI.Executable.result(cmd, tc)\n",
    "fetch(t)"
   ]
  },
  {
   "cell_type": "markdown",
   "id": "c0548df8-c2da-4628-9531-424f68027678",
   "metadata": {},
   "source": [
    "Now, lets try something a bit more involved, by running a Bash script"
   ]
  },
  {
   "cell_type": "code",
   "execution_count": null,
   "id": "987a165c-2b58-49fa-8e7b-638bcc109e9f",
   "metadata": {},
   "outputs": [],
   "source": [
    "cmd_str = \"sleep 10\\necho hi\"\n",
    "println(cmd_str)"
   ]
  },
  {
   "cell_type": "code",
   "execution_count": null,
   "id": "f307b8de-34b9-4dcd-8821-7636b34c73cf",
   "metadata": {},
   "outputs": [],
   "source": [
    "tc = SFAPI.Token.refresh(tc)\n",
    "cmd = SFAPI.Executable.run( \n",
    "    \"cat << EOF | bash\\n$(cmd_str)\\nEOF\" ,\n",
    "    tc\n",
    ")"
   ]
  },
  {
   "cell_type": "markdown",
   "id": "c8d595c6-8156-44bd-99a3-76eda02a1e8c",
   "metadata": {},
   "source": [
    "This is how you would repeatedly poll the SFAPI to check if the command is done running. `SFAPI.Executable.result` does repeatedly check the status, and fetches the result when done (continuously refreshing the API token). So progress is made even when not checking `istaskdone`"
   ]
  },
  {
   "cell_type": "code",
   "execution_count": null,
   "id": "404f1d2f-bb2c-45d7-ab57-0a0175aa0f55",
   "metadata": {},
   "outputs": [],
   "source": [
    "t = SFAPI.Executable.result(cmd, tc)\n",
    "while ! istaskdone(t)\n",
    "    println(\"Wating for result ...\")\n",
    "    sleep(1)\n",
    "end\n",
    "println(fetch(t))"
   ]
  },
  {
   "cell_type": "code",
   "execution_count": null,
   "id": "9fccba92-87f1-414d-97c8-7785b9f870c7",
   "metadata": {},
   "outputs": [],
   "source": []
  }
 ],
 "metadata": {
  "kernelspec": {
   "display_name": "Juliaup 1.10.2",
   "language": "julia",
   "name": "juliaup-1.10"
  },
  "language_info": {
   "file_extension": ".jl",
   "mimetype": "application/julia",
   "name": "julia",
   "version": "1.10.2"
  }
 },
 "nbformat": 4,
 "nbformat_minor": 5
}
