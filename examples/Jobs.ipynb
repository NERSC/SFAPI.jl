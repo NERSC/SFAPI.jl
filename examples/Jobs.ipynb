{
 "cells": [
  {
   "cell_type": "code",
   "execution_count": null,
   "id": "18943b90-0d94-46b5-a46b-9241d4456595",
   "metadata": {},
   "outputs": [],
   "source": [
    "using Pkg\n",
    "Pkg.activate(@__DIR__)\n",
    "Pkg.instantiate()"
   ]
  },
  {
   "cell_type": "code",
   "execution_count": null,
   "id": "f17b4338-e8a3-48ba-8ab1-8b06e8ff52c6",
   "metadata": {},
   "outputs": [],
   "source": [
    "using JSON\n",
    "using Dates\n",
    "using TimeZones\n",
    "using Chain\n",
    "using ResultTypes\n",
    "\n",
    "using Base: @kwdef"
   ]
  },
  {
   "cell_type": "code",
   "execution_count": null,
   "id": "db914ca1-cd75-4f21-a885-e76d42317d96",
   "metadata": {},
   "outputs": [],
   "source": [
    "using SFAPI"
   ]
  },
  {
   "cell_type": "code",
   "execution_count": null,
   "id": "16f2b345-6ff8-47d4-b20a-9dac3a615d87",
   "metadata": {},
   "outputs": [],
   "source": [
    "client = SFAPI.Token.Client(joinpath(@__DIR__, \"credentials\"))\n",
    "tc = SFAPI.Token.fetch(client) |> unwrap"
   ]
  },
  {
   "cell_type": "code",
   "execution_count": null,
   "id": "59d09080-7fa2-432b-be8d-d5ee2a23c1a3",
   "metadata": {},
   "outputs": [],
   "source": [
    "tc = SFAPI.Token.refresh(tc)\n",
    "account = SFAPI.Account.User(SFAPI.Query.get(\"account\", tc.token))"
   ]
  },
  {
   "cell_type": "code",
   "execution_count": null,
   "id": "71c88c61-73c3-495a-8c83-f612643bfb4d",
   "metadata": {},
   "outputs": [],
   "source": [
    "home_path = \"/global/homes/$(account.name[1])/$(account.name)\"\n",
    "scratch_path = \"/pscratch/sd/$(account.name[1])/$(account.name)\""
   ]
  },
  {
   "cell_type": "code",
   "execution_count": null,
   "id": "bfcefe14-e75f-48ee-8956-23f8e8652ff8",
   "metadata": {},
   "outputs": [],
   "source": [
    "tc = SFAPI.Token.refresh(tc)\n",
    "x = SFAPI.Query.get(\n",
    "    \"compute/jobs/perlmutter\", tc.token;\n",
    "    parameters=Dict(\n",
    "        \"index\" => \"0\",\n",
    "        \"sacct\" => \"false\",\n",
    "        \"kwargs\" => \"user=blaschke\"\n",
    "    )\n",
    ") |> unwrap"
   ]
  },
  {
   "cell_type": "code",
   "execution_count": null,
   "id": "758e02fb-c777-4984-b83f-4b0b7c2dd141",
   "metadata": {},
   "outputs": [],
   "source": [
    "job_script = \"\"\"#!/bin/bash\n",
    "#SBATCH -q regular\n",
    "#SBATCH -A nstaff\n",
    "#SBATCH -N 1\n",
    "#SBATCH -C cpu\n",
    "#SBATCH -t 00:05:00\n",
    "#SBATCH -J sfapi-test\n",
    "#SBATCH --output=$(scratch_path)/sfapi/test.out\n",
    "#SBATCH --error=$(scratch_path)/sfapi/test.error\n",
    "\n",
    "echo \"hi\"\n",
    "\"\"\"\n",
    "\n",
    "job_script_file = \"$(scratch_path)/sfapi/test.sh\"\n",
    "\n",
    "println(job_script)"
   ]
  },
  {
   "cell_type": "code",
   "execution_count": null,
   "id": "b9f48869-590f-4917-b61e-51eb48e03cdf",
   "metadata": {},
   "outputs": [],
   "source": [
    "job_script_file"
   ]
  },
  {
   "cell_type": "code",
   "execution_count": null,
   "id": "87f033a9-4d44-45fa-857b-20d53c8ff112",
   "metadata": {},
   "outputs": [],
   "source": [
    "tc = SFAPI.Token.refresh(tc)\n",
    "cmd = SFAPI.Executable.run( \n",
    "    \"cat > $(job_script_file) << EOF\\n$(job_script)EOF\",\n",
    "    tc\n",
    ")\n",
    "\n",
    "t = SFAPI.Executable.result(cmd, tc)\n",
    "while ! istaskdone(t)\n",
    "    println(\"Wating for result ...\")\n",
    "    sleep(1)\n",
    "end\n",
    "println(fetch(t))"
   ]
  },
  {
   "cell_type": "code",
   "execution_count": null,
   "id": "8696dfa5-15d3-449f-9542-2c5f56e377c8",
   "metadata": {},
   "outputs": [],
   "source": [
    "tc = SFAPI.Token.refresh(tc)\n",
    "cmd = SFAPI.Executable.run(\n",
    "    \"ls $(job_script_file)\",\n",
    "    tc\n",
    ")\n",
    "\n",
    "t = SFAPI.Executable.result(cmd, tc)\n",
    "while ! istaskdone(t)\n",
    "    println(\"Wating for result ...\")\n",
    "    sleep(1)\n",
    "end\n",
    "r = fetch(t)"
   ]
  },
  {
   "cell_type": "code",
   "execution_count": null,
   "id": "a52e7078-058d-456b-bf98-498c4006326f",
   "metadata": {},
   "outputs": [],
   "source": [
    "strip(r.output) == job_script_file"
   ]
  },
  {
   "cell_type": "code",
   "execution_count": null,
   "id": "9e69c806-9eb8-47ad-b8d2-ca8b6289cab8",
   "metadata": {},
   "outputs": [],
   "source": []
  }
 ],
 "metadata": {
  "kernelspec": {
   "display_name": "Juliaup 1.10.2",
   "language": "julia",
   "name": "juliaup-1.10"
  },
  "language_info": {
   "file_extension": ".jl",
   "mimetype": "application/julia",
   "name": "julia",
   "version": "1.10.2"
  }
 },
 "nbformat": 4,
 "nbformat_minor": 5
}
