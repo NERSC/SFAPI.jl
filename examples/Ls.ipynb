{
 "cells": [
  {
   "cell_type": "code",
   "execution_count": null,
   "id": "18943b90-0d94-46b5-a46b-9241d4456595",
   "metadata": {},
   "outputs": [],
   "source": [
    "using Pkg\n",
    "Pkg.activate(@__DIR__)\n",
    "Pkg.instantiate()"
   ]
  },
  {
   "cell_type": "code",
   "execution_count": null,
   "id": "f17b4338-e8a3-48ba-8ab1-8b06e8ff52c6",
   "metadata": {},
   "outputs": [],
   "source": [
    "using JSON\n",
    "using Dates\n",
    "using TimeZones\n",
    "using Chain\n",
    "using ResultTypes\n",
    "\n",
    "using Base: @kwdef"
   ]
  },
  {
   "cell_type": "code",
   "execution_count": null,
   "id": "db914ca1-cd75-4f21-a885-e76d42317d96",
   "metadata": {},
   "outputs": [],
   "source": [
    "using SFAPI"
   ]
  },
  {
   "cell_type": "markdown",
   "id": "dc6c752d-6f54-49c0-b756-d8e38a60c536",
   "metadata": {},
   "source": [
    "Grab a token and check if it works"
   ]
  },
  {
   "cell_type": "code",
   "execution_count": null,
   "id": "16f2b345-6ff8-47d4-b20a-9dac3a615d87",
   "metadata": {},
   "outputs": [],
   "source": [
    "client = SFAPI.Token.Client(joinpath(@__DIR__, \"credentials\"))\n",
    "tc = SFAPI.Token.fetch(client) |> unwrap;"
   ]
  },
  {
   "cell_type": "code",
   "execution_count": null,
   "id": "59d09080-7fa2-432b-be8d-d5ee2a23c1a3",
   "metadata": {},
   "outputs": [],
   "source": [
    "tc = SFAPI.Token.refresh(tc)\n",
    "account = SFAPI.Account.User(SFAPI.Query.get(\"account\", tc.token))"
   ]
  },
  {
   "cell_type": "markdown",
   "id": "359b3a9b-eb85-42f2-b05c-6bde6ab41968",
   "metadata": {},
   "source": [
    "Paths at NERSC:"
   ]
  },
  {
   "cell_type": "code",
   "execution_count": null,
   "id": "71c88c61-73c3-495a-8c83-f612643bfb4d",
   "metadata": {},
   "outputs": [],
   "source": [
    "home_path = \"/global/homes/$(account.name[1])/$(account.name)\"\n",
    "scratch_path = \"/pscratch/sd/$(account.name[1])/$(account.name)\""
   ]
  },
  {
   "cell_type": "code",
   "execution_count": null,
   "id": "7c65eeec-9291-4894-9331-3bd58d3056a1",
   "metadata": {},
   "outputs": [],
   "source": [
    "tc = SFAPI.Token.refresh(tc)\n",
    "ls = SFAPI.Ls.Dir(SFAPI.Query.get(\"utilities/ls/perlmutter/$(scratch_path)\", tc.token))\n",
    "for e in ls.entries\n",
    "    println(e)\n",
    "end"
   ]
  },
  {
   "cell_type": "code",
   "execution_count": null,
   "id": "3d1fffcb-c0dc-41da-afd7-8dfa51523c2d",
   "metadata": {},
   "outputs": [],
   "source": []
  }
 ],
 "metadata": {
  "kernelspec": {
   "display_name": "Juliaup 1.10.2",
   "language": "julia",
   "name": "juliaup-1.10"
  },
  "language_info": {
   "file_extension": ".jl",
   "mimetype": "application/julia",
   "name": "julia",
   "version": "1.10.2"
  }
 },
 "nbformat": 4,
 "nbformat_minor": 5
}
