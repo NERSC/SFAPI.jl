{
 "cells": [
  {
   "cell_type": "code",
   "execution_count": null,
   "id": "18943b90-0d94-46b5-a46b-9241d4456595",
   "metadata": {},
   "outputs": [],
   "source": [
    "using Pkg\n",
    "Pkg.activate(@__DIR__)\n",
    "Pkg.instantiate()"
   ]
  },
  {
   "cell_type": "code",
   "execution_count": null,
   "id": "f17b4338-e8a3-48ba-8ab1-8b06e8ff52c6",
   "metadata": {},
   "outputs": [],
   "source": [
    "using JSON\n",
    "using Dates\n",
    "using TimeZones\n",
    "using Chain\n",
    "using ResultTypes\n",
    "\n",
    "using Base: @kwdef"
   ]
  },
  {
   "cell_type": "code",
   "execution_count": null,
   "id": "db914ca1-cd75-4f21-a885-e76d42317d96",
   "metadata": {},
   "outputs": [],
   "source": [
    "using Superfacility: SFAPI"
   ]
  },
  {
   "cell_type": "markdown",
   "id": "45e46e10-cec9-46da-8fe2-50a6cffdef13",
   "metadata": {},
   "source": [
    "Get a token"
   ]
  },
  {
   "cell_type": "code",
   "execution_count": null,
   "id": "16f2b345-6ff8-47d4-b20a-9dac3a615d87",
   "metadata": {},
   "outputs": [],
   "source": [
    "client = SFAPI.Token.Client(joinpath(@__DIR__, \"credentials\"))\n",
    "tc = SFAPI.Token.fetch(client) |> unwrap;"
   ]
  },
  {
   "cell_type": "markdown",
   "id": "6f3b4b80-e536-44e2-8dc5-6c4981ce5d60",
   "metadata": {},
   "source": [
    "Refresh the token"
   ]
  },
  {
   "cell_type": "code",
   "execution_count": null,
   "id": "9d4e404a-0a79-487a-8f89-5d4235aab183",
   "metadata": {},
   "outputs": [],
   "source": [
    "tc = SFAPI.Token.refresh(tc);"
   ]
  },
  {
   "cell_type": "markdown",
   "id": "8fc88865-e404-4e77-b21d-0679bde42271",
   "metadata": {},
   "source": [
    "Get user account info"
   ]
  },
  {
   "cell_type": "code",
   "execution_count": null,
   "id": "59d09080-7fa2-432b-be8d-d5ee2a23c1a3",
   "metadata": {},
   "outputs": [],
   "source": [
    "account = SFAPI.Account.User(SFAPI.Query.get(\"account\", tc.token))"
   ]
  },
  {
   "cell_type": "markdown",
   "id": "6652e1ac-6e74-4d58-8e0b-580c30afbdb4",
   "metadata": {},
   "source": [
    "List projects"
   ]
  },
  {
   "cell_type": "code",
   "execution_count": null,
   "id": "3e602055-c810-4248-a9d9-d47390296e23",
   "metadata": {},
   "outputs": [],
   "source": [
    "tc = SFAPI.Token.refresh(tc)\n",
    "projects = SFAPI.Query.get(\"account/projects\", tc.token)\n",
    "JSON.print(projects, 4)"
   ]
  },
  {
   "cell_type": "code",
   "execution_count": null,
   "id": "58c56aaa-289f-453e-92af-2c90d75546bf",
   "metadata": {},
   "outputs": [],
   "source": []
  }
 ],
 "metadata": {
  "kernelspec": {
   "display_name": "Juliaup 1.10.2",
   "language": "julia",
   "name": "juliaup-1.10"
  },
  "language_info": {
   "file_extension": ".jl",
   "mimetype": "application/julia",
   "name": "julia",
   "version": "1.10.2"
  }
 },
 "nbformat": 4,
 "nbformat_minor": 5
}
