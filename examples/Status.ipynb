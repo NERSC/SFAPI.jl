{
 "cells": [
  {
   "cell_type": "code",
   "execution_count": null,
   "id": "18943b90-0d94-46b5-a46b-9241d4456595",
   "metadata": {},
   "outputs": [],
   "source": [
    "using Pkg\n",
    "Pkg.activate(@__DIR__)\n",
    "Pkg.instantiate()"
   ]
  },
  {
   "cell_type": "code",
   "execution_count": null,
   "id": "f17b4338-e8a3-48ba-8ab1-8b06e8ff52c6",
   "metadata": {},
   "outputs": [],
   "source": [
    "using JSON\n",
    "using Dates\n",
    "using TimeZones\n",
    "using Chain\n",
    "using ResultTypes\n",
    "\n",
    "using Base: @kwdef"
   ]
  },
  {
   "cell_type": "code",
   "execution_count": null,
   "id": "db914ca1-cd75-4f21-a885-e76d42317d96",
   "metadata": {},
   "outputs": [],
   "source": [
    "using Superfacility: SFAPI"
   ]
  },
  {
   "cell_type": "code",
   "execution_count": null,
   "id": "fc2a55dc-59a6-46c8-8a87-ef5ec54a7515",
   "metadata": {},
   "outputs": [],
   "source": [
    "center_status = SFAPI.Status.CenterStatus(SFAPI.Query.get(\"status\"))\n",
    "perlmutter_status = only(filter(x->x.name == \"perlmutter\", center_status))"
   ]
  },
  {
   "cell_type": "markdown",
   "id": "7c7ad7f0-6cd8-43b3-aa3e-bb6dd3e1a345",
   "metadata": {},
   "source": [
    "Same as:"
   ]
  },
  {
   "cell_type": "code",
   "execution_count": null,
   "id": "9fb4b267-59de-4152-95a4-32a374844034",
   "metadata": {},
   "outputs": [],
   "source": [
    "SFAPI.Status.StatusEntry(SFAPI.Query.get(\"status/perlmutter\"))"
   ]
  },
  {
   "cell_type": "code",
   "execution_count": null,
   "id": "b23b68c5-1e05-4e34-b953-1162c979f89c",
   "metadata": {},
   "outputs": [],
   "source": [
    "perlmutter_status.status"
   ]
  },
  {
   "cell_type": "code",
   "execution_count": null,
   "id": "5d3dc69c-b366-4819-98a8-98787b9a5938",
   "metadata": {},
   "outputs": [],
   "source": []
  }
 ],
 "metadata": {
  "kernelspec": {
   "display_name": "Juliaup 1.10.2",
   "language": "julia",
   "name": "juliaup-1.10"
  },
  "language_info": {
   "file_extension": ".jl",
   "mimetype": "application/julia",
   "name": "julia",
   "version": "1.10.2"
  }
 },
 "nbformat": 4,
 "nbformat_minor": 5
}
